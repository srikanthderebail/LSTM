{
 "cells": [
  {
   "cell_type": "markdown",
   "metadata": {},
   "source": [
    "# Stock price prediction using LSTM\n",
    "\n",
    "In this example, stock prices are forecasted using LSTM cells. This is intended as an exercise to understand LSTM and its implementation using Tensorflow. The dataset consists of the prices of S&P 500 index and all the stocks that form the index, for 41266 minutes of data from April to August 2017 (downloaded from http://files.statworx.com/sp500.zip). \n"
   ]
  },
  {
   "cell_type": "code",
   "execution_count": 1,
   "metadata": {},
   "outputs": [
    {
     "name": "stderr",
     "output_type": "stream",
     "text": [
      "/anaconda/lib/python3.6/importlib/_bootstrap.py:205: RuntimeWarning: compiletime version 3.5 of module 'tensorflow.python.framework.fast_tensor_util' does not match runtime version 3.6\n",
      "  return f(*args, **kwds)\n"
     ]
    }
   ],
   "source": [
    "import numpy as np\n",
    "import pandas as pd\n",
    "import matplotlib.pyplot as plt\n",
    "import tensorflow as tf"
   ]
  },
  {
   "cell_type": "markdown",
   "metadata": {},
   "source": [
    "# Data preparation\n",
    "The first part in implementing any machine learning algorithm is data preparation. This involes reading the data, cleaning it up, normalizing if necessary, and splitting it into train and test portions. In this example, the data is stored as a .csv file which is first read into a pandas dataframe object. The 'DATE' section of the data refers to the timestamp for each price, and this can be safely ignored as LSTM's do not use time as explicitly in the their computatation. "
   ]
  },
  {
   "cell_type": "code",
   "execution_count": 2,
   "metadata": {},
   "outputs": [
    {
     "name": "stdout",
     "output_type": "stream",
     "text": [
      " No. of rows is  41266  and no. of cols is  501\n"
     ]
    }
   ],
   "source": [
    "# Import data\n",
    "data = pd.read_csv('data_stocks.csv')\n",
    "\n",
    "# Drop date variable\n",
    "data = data.drop(['DATE'], 1)\n",
    "\n",
    "# Know the shape of the data\n",
    "print(\" No. of rows is \",data.shape[0],\" and no. of cols is \",data.shape[1])"
   ]
  },
  {
   "cell_type": "code",
   "execution_count": 3,
   "metadata": {},
   "outputs": [
    {
     "data": {
      "text/html": [
       "<div>\n",
       "<style>\n",
       "    .dataframe thead tr:only-child th {\n",
       "        text-align: right;\n",
       "    }\n",
       "\n",
       "    .dataframe thead th {\n",
       "        text-align: left;\n",
       "    }\n",
       "\n",
       "    .dataframe tbody tr th {\n",
       "        vertical-align: top;\n",
       "    }\n",
       "</style>\n",
       "<table border=\"1\" class=\"dataframe\">\n",
       "  <thead>\n",
       "    <tr style=\"text-align: right;\">\n",
       "      <th></th>\n",
       "      <th>SP500</th>\n",
       "      <th>NASDAQ.AAL</th>\n",
       "      <th>NASDAQ.AAPL</th>\n",
       "      <th>NASDAQ.ADBE</th>\n",
       "      <th>NASDAQ.ADI</th>\n",
       "      <th>NASDAQ.ADP</th>\n",
       "      <th>NASDAQ.ADSK</th>\n",
       "      <th>NASDAQ.AKAM</th>\n",
       "      <th>NASDAQ.ALXN</th>\n",
       "      <th>NASDAQ.AMAT</th>\n",
       "      <th>...</th>\n",
       "      <th>NYSE.WYN</th>\n",
       "      <th>NYSE.XEC</th>\n",
       "      <th>NYSE.XEL</th>\n",
       "      <th>NYSE.XL</th>\n",
       "      <th>NYSE.XOM</th>\n",
       "      <th>NYSE.XRX</th>\n",
       "      <th>NYSE.XYL</th>\n",
       "      <th>NYSE.YUM</th>\n",
       "      <th>NYSE.ZBH</th>\n",
       "      <th>NYSE.ZTS</th>\n",
       "    </tr>\n",
       "  </thead>\n",
       "  <tbody>\n",
       "    <tr>\n",
       "      <th>0</th>\n",
       "      <td>2363.6101</td>\n",
       "      <td>42.3300</td>\n",
       "      <td>143.6800</td>\n",
       "      <td>129.6300</td>\n",
       "      <td>82.040</td>\n",
       "      <td>102.2300</td>\n",
       "      <td>85.2200</td>\n",
       "      <td>59.760</td>\n",
       "      <td>121.52</td>\n",
       "      <td>38.99</td>\n",
       "      <td>...</td>\n",
       "      <td>84.370</td>\n",
       "      <td>119.035</td>\n",
       "      <td>44.40</td>\n",
       "      <td>39.88</td>\n",
       "      <td>82.03</td>\n",
       "      <td>7.36</td>\n",
       "      <td>50.22</td>\n",
       "      <td>63.86</td>\n",
       "      <td>122.000</td>\n",
       "      <td>53.350</td>\n",
       "    </tr>\n",
       "    <tr>\n",
       "      <th>1</th>\n",
       "      <td>2364.1001</td>\n",
       "      <td>42.3600</td>\n",
       "      <td>143.7000</td>\n",
       "      <td>130.3200</td>\n",
       "      <td>82.080</td>\n",
       "      <td>102.1400</td>\n",
       "      <td>85.6500</td>\n",
       "      <td>59.840</td>\n",
       "      <td>121.48</td>\n",
       "      <td>39.01</td>\n",
       "      <td>...</td>\n",
       "      <td>84.370</td>\n",
       "      <td>119.035</td>\n",
       "      <td>44.11</td>\n",
       "      <td>39.88</td>\n",
       "      <td>82.03</td>\n",
       "      <td>7.38</td>\n",
       "      <td>50.22</td>\n",
       "      <td>63.74</td>\n",
       "      <td>121.770</td>\n",
       "      <td>53.350</td>\n",
       "    </tr>\n",
       "    <tr>\n",
       "      <th>2</th>\n",
       "      <td>2362.6799</td>\n",
       "      <td>42.3100</td>\n",
       "      <td>143.6901</td>\n",
       "      <td>130.2250</td>\n",
       "      <td>82.030</td>\n",
       "      <td>102.2125</td>\n",
       "      <td>85.5100</td>\n",
       "      <td>59.795</td>\n",
       "      <td>121.93</td>\n",
       "      <td>38.91</td>\n",
       "      <td>...</td>\n",
       "      <td>84.585</td>\n",
       "      <td>119.260</td>\n",
       "      <td>44.09</td>\n",
       "      <td>39.98</td>\n",
       "      <td>82.02</td>\n",
       "      <td>7.36</td>\n",
       "      <td>50.12</td>\n",
       "      <td>63.75</td>\n",
       "      <td>121.700</td>\n",
       "      <td>53.365</td>\n",
       "    </tr>\n",
       "    <tr>\n",
       "      <th>3</th>\n",
       "      <td>2364.3101</td>\n",
       "      <td>42.3700</td>\n",
       "      <td>143.6400</td>\n",
       "      <td>130.0729</td>\n",
       "      <td>82.000</td>\n",
       "      <td>102.1400</td>\n",
       "      <td>85.4872</td>\n",
       "      <td>59.620</td>\n",
       "      <td>121.44</td>\n",
       "      <td>38.84</td>\n",
       "      <td>...</td>\n",
       "      <td>84.460</td>\n",
       "      <td>119.260</td>\n",
       "      <td>44.25</td>\n",
       "      <td>39.99</td>\n",
       "      <td>82.02</td>\n",
       "      <td>7.35</td>\n",
       "      <td>50.16</td>\n",
       "      <td>63.88</td>\n",
       "      <td>121.700</td>\n",
       "      <td>53.380</td>\n",
       "    </tr>\n",
       "    <tr>\n",
       "      <th>4</th>\n",
       "      <td>2364.8501</td>\n",
       "      <td>42.5378</td>\n",
       "      <td>143.6600</td>\n",
       "      <td>129.8800</td>\n",
       "      <td>82.035</td>\n",
       "      <td>102.0600</td>\n",
       "      <td>85.7001</td>\n",
       "      <td>59.620</td>\n",
       "      <td>121.60</td>\n",
       "      <td>38.93</td>\n",
       "      <td>...</td>\n",
       "      <td>84.470</td>\n",
       "      <td>119.610</td>\n",
       "      <td>44.11</td>\n",
       "      <td>39.96</td>\n",
       "      <td>82.03</td>\n",
       "      <td>7.36</td>\n",
       "      <td>50.20</td>\n",
       "      <td>63.91</td>\n",
       "      <td>121.695</td>\n",
       "      <td>53.240</td>\n",
       "    </tr>\n",
       "  </tbody>\n",
       "</table>\n",
       "<p>5 rows × 501 columns</p>\n",
       "</div>"
      ],
      "text/plain": [
       "       SP500  NASDAQ.AAL  NASDAQ.AAPL  NASDAQ.ADBE  NASDAQ.ADI  NASDAQ.ADP  \\\n",
       "0  2363.6101     42.3300     143.6800     129.6300      82.040    102.2300   \n",
       "1  2364.1001     42.3600     143.7000     130.3200      82.080    102.1400   \n",
       "2  2362.6799     42.3100     143.6901     130.2250      82.030    102.2125   \n",
       "3  2364.3101     42.3700     143.6400     130.0729      82.000    102.1400   \n",
       "4  2364.8501     42.5378     143.6600     129.8800      82.035    102.0600   \n",
       "\n",
       "   NASDAQ.ADSK  NASDAQ.AKAM  NASDAQ.ALXN  NASDAQ.AMAT    ...     NYSE.WYN  \\\n",
       "0      85.2200       59.760       121.52        38.99    ...       84.370   \n",
       "1      85.6500       59.840       121.48        39.01    ...       84.370   \n",
       "2      85.5100       59.795       121.93        38.91    ...       84.585   \n",
       "3      85.4872       59.620       121.44        38.84    ...       84.460   \n",
       "4      85.7001       59.620       121.60        38.93    ...       84.470   \n",
       "\n",
       "   NYSE.XEC  NYSE.XEL  NYSE.XL  NYSE.XOM  NYSE.XRX  NYSE.XYL  NYSE.YUM  \\\n",
       "0   119.035     44.40    39.88     82.03      7.36     50.22     63.86   \n",
       "1   119.035     44.11    39.88     82.03      7.38     50.22     63.74   \n",
       "2   119.260     44.09    39.98     82.02      7.36     50.12     63.75   \n",
       "3   119.260     44.25    39.99     82.02      7.35     50.16     63.88   \n",
       "4   119.610     44.11    39.96     82.03      7.36     50.20     63.91   \n",
       "\n",
       "   NYSE.ZBH  NYSE.ZTS  \n",
       "0   122.000    53.350  \n",
       "1   121.770    53.350  \n",
       "2   121.700    53.365  \n",
       "3   121.700    53.380  \n",
       "4   121.695    53.240  \n",
       "\n",
       "[5 rows x 501 columns]"
      ]
     },
     "execution_count": 3,
     "metadata": {},
     "output_type": "execute_result"
    }
   ],
   "source": [
    "data.head()"
   ]
  },
  {
   "cell_type": "markdown",
   "metadata": {},
   "source": [
    "As we can see, the dataset contains price history of S&P 500 as well as each of the 500 stocks that form the index. In this example, I will only try to use the SP500 price as the sequential data, as a simple start. Ofcourse one can even think of using the other stock prices to create a different problem. \n",
    "\n",
    "A good step in any data analysis is data visualization, done using matplotlib here. This helps us to understand the complexity of the data we are trying to model."
   ]
  },
  {
   "cell_type": "code",
   "execution_count": 4,
   "metadata": {},
   "outputs": [
    {
     "data": {
      "image/png": "[encoded data removed]",
      "text/plain": [
       "<matplotlib.figure.Figure at 0x11ad58a20>"
      ]
     },
     "metadata": {},
     "output_type": "display_data"
    }
   ],
   "source": [
    "plt.plot(data['SP500'])\n",
    "plt.show()"
   ]
  },
  {
   "cell_type": "markdown",
   "metadata": {},
   "source": [
    "The data is rich of frequencies as is evident from the plot. Also, one can observe that the data has quite large values (mean around 2400). This can usually be problematic for machine learning algorithms , especially in the gradient descent step. Hence it is important to normalize the dataset, so that the values are sufficiently small. \n",
    "\n",
    "But before this step, we need to first formulate our problem, and decide what the inputs and the outputs are going to be. As a simple start, let us try to predict the next minute data from the previous ten minutes of data. This is a very standard problem in dynamical systems or stochastic systems where the state is estimated using the current and previous state. Another usual assumption in many stochastic systems is the Markovian property, which means that the current state alone contains all the information needed to estimate the next state. But here, we are using a sequence of previous states just as an example to implement LSTM. "
   ]
  },
  {
   "cell_type": "code",
   "execution_count": 5,
   "metadata": {
    "collapsed": true
   },
   "outputs": [],
   "source": [
    "# Obtain the number of training samples and decide split factor for train-test split\n",
    "nt = data.shape[0]\n",
    "split = 0.8\n",
    "ntrain = int(split*nt)\n",
    "ntest = nt - ntrain\n",
    "window = 10\n",
    "\n",
    "# Only store the SP500 prices\n",
    "data = data['SP500']\n",
    "data = data.values\n",
    "\n",
    "# Form the train and test input data\n",
    "X_train = np.zeros((ntrain-window-1,window))\n",
    "Y_train = np.zeros((ntrain-window-1,1))\n",
    "X_test = np.zeros((ntest-window-1,window))\n",
    "Y_test = np.zeros((ntest-window-1,1))\n",
    "for i in range(ntrain-window-1):\n",
    "    X_train[i,:] = data[i:i+window]\n",
    "    Y_train[i,:] = data[i+window]\n",
    "\n",
    "# Form train and test output data    \n",
    "for i in range(ntest-window-1):\n",
    "    X_test[i,:] = data[i+ntrain:i+ntrain+window]\n",
    "    Y_test[i,:] = data[i+ntrain+window]    "
   ]
  },
  {
   "cell_type": "code",
   "execution_count": 6,
   "metadata": {},
   "outputs": [
    {
     "name": "stdout",
     "output_type": "stream",
     "text": [
      "(33001, 10) (33001, 1) (8243, 10) (8243, 1)\n"
     ]
    }
   ],
   "source": [
    "# Just see the new training and test size\n",
    "print(X_train.shape,Y_train.shape,X_test.shape,Y_test.shape)"
   ]
  },
  {
   "cell_type": "markdown",
   "metadata": {},
   "source": [
    "Now that we have the input and output data nicely divided as test and train, we can proceed to apply normalization."
   ]
  },
  {
   "cell_type": "code",
   "execution_count": 7,
   "metadata": {
    "collapsed": true
   },
   "outputs": [],
   "source": [
    "# normalize the training and use this parameters to normalize test\n",
    "from sklearn.preprocessing import StandardScaler\n",
    "Normalize = StandardScaler()\n",
    "\n",
    "# Fit transform on training\n",
    "X_train = Normalize.fit_transform(X_train)\n",
    "Y_train = Normalize.fit_transform(Y_train)\n",
    "\n",
    "# Transform on test\n",
    "X_test = Normalize.transform(X_test)\n",
    "Y_test = Normalize.transform(Y_test)"
   ]
  },
  {
   "cell_type": "code",
   "execution_count": 8,
   "metadata": {},
   "outputs": [
    {
     "data": {
      "image/png": "[encoded data removed]",
      "text/plain": [
       "<matplotlib.figure.Figure at 0x1267fcd30>"
      ]
     },
     "metadata": {},
     "output_type": "display_data"
    }
   ],
   "source": [
    "# Jut plot the test and trainng tests to see if the normalization has been properly implemented.\n",
    "plt.plot(X_test[:,0],'r',Y_test[:,0],'b')\n",
    "plt.show()"
   ]
  },
  {
   "cell_type": "code",
   "execution_count": 10,
   "metadata": {
    "collapsed": true
   },
   "outputs": [],
   "source": [
    "# This reshaping is required for Tensorflow, \n",
    "# which needs the input to be (number of samples, length of sequence, number of features)\n",
    "ntrain = X_train.shape[0]\n",
    "ntest = X_test.shape[0]\n",
    "\n",
    "X_train_shaped = np.zeros((ntrain,window,1))\n",
    "X_test_shaped = np.zeros((ntest,window,1))\n",
    "X_train_shaped[:,:,0] = X_train[:,:]\n",
    "X_test_shaped[:,:,0] = X_test[:,:]"
   ]
  },
  {
   "cell_type": "markdown",
   "metadata": {},
   "source": [
    "# Tensorflow computational graph\n",
    "The next step is the implementation of LSTM using Tensorflow API. We will use the tf.nn.rnn_cell.LSTMCell function to create a single LSTM cell. I strongly advise you to check out other cells and read about them. Here we will only use a single layer of LSTM cell, followed by a linear transformation of the output. But ofcourse one can add multiple layers and this is another hyperparameter in the implementation of neural networks. \n",
    "\n",
    "The num_hidden layer required for the LSTMCell is a quite tricky parameter. It does not represent the number of hidden layers, but the size of the output of the LSTM cell. The key idea is to map an input to a higher dimensional cell output, and then look for relationships in this cell output space, followed by a transformation (i.e. weights*output + bias) to the actual output (referred as target). This is similar to the Kernel ideas, if you are familiar with it. \n",
    "\n",
    "Briefly speaking, tensorflow creates a computational graph, which is evaluated only when sess.run() is called. For recurrent neural nets, the network has to be unrolled to create the computational graph, which is achieved by using tf.nn.dynamic_rnn(). The output of the unrolled network is a sequence of outputs, with the length of sequence equal to the length of the input, and the size of each element of the sequence equal to the num_hidden parameter.\n",
    "\n",
    "The last steps are creating a loss function, and mean square error seems to be a good indicator of the loss. The optimization can be solved using different algorithms, and here I have used AdamOptimizer."
   ]
  },
  {
   "cell_type": "code",
   "execution_count": 11,
   "metadata": {},
   "outputs": [
    {
     "name": "stderr",
     "output_type": "stream",
     "text": [
      "/anaconda/lib/python3.6/site-packages/tensorflow/python/ops/gradients_impl.py:96: UserWarning: Converting sparse IndexedSlices to a dense Tensor of unknown shape. This may consume a large amount of memory.\n",
      "  \"Converting sparse IndexedSlices to a dense Tensor of unknown shape. \"\n"
     ]
    }
   ],
   "source": [
    "# Placeholders for input (data) and output(target)\n",
    "data = tf.placeholder(tf.float32, [None, window,1])\n",
    "target = tf.placeholder(tf.float32, [None, 1])\n",
    "\n",
    "# Specify the number of hidden cells and create one LSTM cell\n",
    "num_hidden = 24\n",
    "cell = tf.nn.rnn_cell.LSTMCell(num_hidden)\n",
    "\n",
    "# Unroll the cell using dynamic_rnn\n",
    "val, state = tf.nn.dynamic_rnn(cell, data, dtype=tf.float32)\n",
    "\n",
    "val = tf.transpose(val, [1, 0, 2])\n",
    "last = tf.gather(val, int(val.get_shape()[0]) - 1)\n",
    "\n",
    "weight = tf.Variable(tf.truncated_normal([num_hidden, int(target.get_shape()[1])]))\n",
    "bias = tf.Variable(tf.constant(0.1, shape=[target.get_shape()[1]]))\n",
    "\n",
    "prediction = tf.matmul(last, weight) + bias\n",
    "cross_entropy = tf.losses.mean_squared_error(prediction,target)\n",
    "\n",
    "optimizer = tf.train.AdamOptimizer()\n",
    "minimize = optimizer.minimize(cross_entropy)"
   ]
  },
  {
   "cell_type": "markdown",
   "metadata": {},
   "source": [
    "After creating the computational graph, the input and output is fed as a dictionary using feed_dict parameter in a batch fashion. I have been using this template for implementing neural networks in a rather quick manner, and also in a more clean and intuitive ways (rather than use lot of unnecassary functions and classes)."
   ]
  },
  {
   "cell_type": "code",
   "execution_count": 12,
   "metadata": {},
   "outputs": [
    {
     "name": "stdout",
     "output_type": "stream",
     "text": [
      "Epoch -  0  loss -  0.536583\n",
      "Epoch -  50  loss -  0.000792924\n",
      "Test loss - 0.000609993\n"
     ]
    }
   ],
   "source": [
    "init_op = tf.global_variables_initializer()\n",
    "sess = tf.Session()\n",
    "sess.run(init_op)\n",
    "\n",
    "batch_size = 1000\n",
    "no_of_batches = int(ntrain/batch_size)\n",
    "epoch = 100\n",
    "for i in range(epoch):\n",
    "    ptr = 0\n",
    "    for j in range(no_of_batches):\n",
    "        inp, out = X_train_shaped[ptr:ptr+batch_size,:,:], Y_train[ptr:ptr+batch_size,:]\n",
    "        ptr+=batch_size\n",
    "        loss,_ = sess.run([cross_entropy,minimize],feed_dict={data: inp, target: out})\n",
    "    if(i%50 == 0):\n",
    "        print(\"Epoch - \",str(i),\" loss - \",loss)\n",
    "test_loss,Y_pred = sess.run([cross_entropy,prediction],feed_dict={data:X_test_shaped, target: Y_test})\n",
    "print('Test loss -',test_loss)\n",
    "sess.close()"
   ]
  },
  {
   "cell_type": "markdown",
   "metadata": {},
   "source": [
    "Voila, the loss for the test set is very low which means that LSTM is very efficient in predicting the next minute of stock data. Note that the variables you want to print on screen or use later must be included in the sess.run() input as a list. Otherwise they will be computed but not accesible!\n",
    "\n",
    "Don't be very happy, as this is not useful in practical scenaries, where one might be interesting in predicting prices in a bit larger timestep and modelling trends over larger time periods, rather than just a minute ahead. But this is intended as toy problem to learn implmentation of LSTM in tensorflow.\n",
    "\n",
    "Let us go ahead and compare the predictions with the actual test data."
   ]
  },
  {
   "cell_type": "code",
   "execution_count": 13,
   "metadata": {},
   "outputs": [
    {
     "data": {
      "image/png": "[encoded data removed]",
      "text/plain": [
       "<matplotlib.figure.Figure at 0x1261cedd8>"
      ]
     },
     "metadata": {},
     "output_type": "display_data"
    }
   ],
   "source": [
    "plt.plot(Y_test,'r',Y_pred,'b')\n",
    "plt.show()"
   ]
  }
 ],
 "metadata": {
  "kernelspec": {
   "display_name": "Python 3",
   "language": "python",
   "name": "python3"
  },
  "language_info": {
   "codemirror_mode": {
    "name": "ipython",
    "version": 3
   },
   "file_extension": ".py",
   "mimetype": "text/x-python",
   "name": "python",
   "nbconvert_exporter": "python",
   "pygments_lexer": "ipython3",
   "version": "3.6.1"
  }
 },
 "nbformat": 4,
 "nbformat_minor": 2
}
